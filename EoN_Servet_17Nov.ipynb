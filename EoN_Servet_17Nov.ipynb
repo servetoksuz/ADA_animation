{
  "nbformat": 4,
  "nbformat_minor": 0,
  "metadata": {
    "colab": {
      "provenance": [],
      "include_colab_link": true
    },
    "kernelspec": {
      "name": "python3",
      "display_name": "Python 3"
    },
    "language_info": {
      "name": "python"
    }
  },
  "cells": [
    {
      "cell_type": "markdown",
      "metadata": {
        "id": "view-in-github",
        "colab_type": "text"
      },
      "source": [
        "<a href=\"https://colab.research.google.com/github/servetoksuz/ADA_animation/blob/main/EoN_Servet_17Nov.ipynb\" target=\"_parent\"><img src=\"https://colab.research.google.com/assets/colab-badge.svg\" alt=\"Open In Colab\"/></a>"
      ]
    },
    {
      "cell_type": "code",
      "metadata": {
        "id": "i-aESAKJmTov"
      },
      "source": [
        "# Import numpy library\n",
        "import numpy as np\n",
        "\n",
        "# create the class Institution\n",
        "class Institution():\n",
        "  def __init__(self, name, nVis, distExp, xyLoc, pVis, nInf, idAg, pAg, pInf, infList):\n",
        "    self.name = name\n",
        "    self.nVis = nVis\n",
        "    self.distExp = distExp\n",
        "    self.xyLoc = xyLoc\n",
        "    self.pVis = pVis\n",
        "    self.nInf = nInf\n",
        "    self.idAg = idAg\n",
        "    self.pAg = pAg\n",
        "    self.pInf = pInf\n",
        "    self.infList = infList\n"
      ],
      "execution_count": null,
      "outputs": []
    },
    {
      "cell_type": "code",
      "metadata": {
        "id": "7guKuoZGOfM1"
      },
      "source": [
        "# Create elemSch as an instance of Institution\n",
        "# Change the lists to numpy arrays\n",
        "elemSch = Institution(\"elemSch\", {'adult':[1],'teen':[1], 'pri':[0,1]}, -10, np.array([[3,7,5,2,8],[2,8,4,9,1]]),\n",
        "                      {'adult':[[]],'teen':[[]], 'pri':[[],[0.95]]}, 0.5, [ np.array([]).astype(int) for _ in range(5)],\n",
        "                      [np.array([]).astype(int) for _ in range(5)], 0.05, [])\n",
        "\n",
        "# Create HS as an instance of Institution\n",
        "HS = Institution( \"HS\",{'adult':[1],'teen':[0,1], 'pri':[1]},-10,np.array([[4,8],[3,7]])\n",
        "                 ,{'adult':[[]],'teen':[[],[0.95]], 'pri':[[]]} ,0.5, [ np.array([]).astype(int) for _ in range(2)],\n",
        "                 [ np.array([]).astype(int) for _ in range(2)], 0.05,[])\n",
        "# Create supermarket as an instance of Institution\n",
        "supermarket = Institution(\"supermarket\" ,{'adult':[0.2,0.4,0.3,0.1],'teen':[0.8,0.2], 'pri':[1]} ,-1\n",
        "                          , np.array([[1,1,9,9,5],[1,9,1,9,5]]),{'adult':[[],[0.25],[0.15,0.1],[0.1,0.1,0.05]],'teen':[[],[0.75]], 'pri':[[]]}\n",
        "                          , 0.3, [ np.array([]).astype(int) for _ in range(5)], [ np.array([]).astype(int) for _ in range(5)], 0.03,[])\n",
        "# Create workplace as an instance of Institution\n",
        "workplace = Institution(\"workplace\",{'adult':[0.25,0.75],'teen':[0.8,0.2], 'pri':[1]},-0.25\n",
        "                        , np.array([[1.7,5,8,1.7,5,8,1.7,5,8],[1.7,1.7,1.7,5,5,5,8,8,8]])\n",
        "                        , {'adult':[[],[0.95]],'teen':[[],[0.75]], 'pri':0}, 0.6,\n",
        "                        [ np.array([]).astype(int) for _ in range(9)], [ np.array([]).astype(int) for _ in range(9)], 0.05,[])"
      ],
      "execution_count": null,
      "outputs": []
    },
    {
      "cell_type": "code",
      "metadata": {
        "id": "OJsZinvpw2Zt"
      },
      "source": [
        "instList = [elemSch, HS, supermarket, workplace]"
      ],
      "execution_count": null,
      "outputs": []
    },
    {
      "cell_type": "code",
      "metadata": {
        "id": "wmDcdVdtTdpr"
      },
      "source": [
        "# Create Homes class\n",
        "class Homes():\n",
        "  def __init__ (self, pRes, pInf, xyLoc, idAg, infList):\n",
        "    self.pRes = pRes\n",
        "    self.pInf = pInf\n",
        "    self.xyLoc = xyLoc\n",
        "    self.idAg = idAg\n",
        "    self.infList = infList"
      ],
      "execution_count": null,
      "outputs": []
    },
    {
      "cell_type": "code",
      "metadata": {
        "id": "cKi5vsV6jnvo"
      },
      "source": [
        "#parameters\n",
        "xLim = np.array([0,10])\n",
        "yLim = np.array([0,10])\n",
        "nHome=50\n",
        "nAgMax = 300"
      ],
      "execution_count": null,
      "outputs": []
    },
    {
      "cell_type": "code",
      "metadata": {
        "id": "V9kK7XVArhEf"
      },
      "source": [
        "# create homes Instance\n",
        "\n",
        "homes = Homes({'adult':[0,0.3,0.6,0.1], 'teen':[0.3,0.3,0.3,0.1], 'pri':[0.3,0.3,0.3,0.1]},\n",
        "              0.3, np.zeros((2,nHome)), [], [])\n",
        "\n",
        "#Define x,y locations of Home class\n",
        "homes.xyLoc[0,:] = np.random.uniform(xLim[0], xLim[1],nHome)\n",
        "homes.xyLoc[1,:] = np.random.uniform(yLim[0], yLim[1],nHome)"
      ],
      "execution_count": null,
      "outputs": []
    },
    {
      "cell_type": "code",
      "metadata": {
        "id": "9zKNqeh4vNBT"
      },
      "source": [
        "# Create Agents class\n",
        "class Agents:\n",
        "  def __init__ (self, typ, status, home):\n",
        "    self.typ = typ\n",
        "    self.status = status\n",
        "    self.home = home\n",
        "\n",
        "agents = Agents(typ = list(range(nAgMax)),status = np.zeros(nAgMax), home = list(range(nAgMax)))\n",
        "\n"
      ],
      "execution_count": null,
      "outputs": []
    },
    {
      "cell_type": "code",
      "metadata": {
        "id": "rD8IGnfinvXX"
      },
      "source": [
        "import pdb"
      ],
      "execution_count": null,
      "outputs": []
    },
    {
      "cell_type": "code",
      "metadata": {
        "id": "H84zni70U0MW"
      },
      "source": [
        " agTyp=[\"pri\",\"teen\",\"adult\"]\n",
        " ja = 0    #Initialize index\n",
        " for jh in range(nHome):   #Loop for jh in range(nHome):\n",
        "   newHome = np.array([]).astype(int) # Create an empty list\n",
        "   # pdb.set_trace()\n",
        "   for thisAg in agTyp:\n",
        "     plist = homes.pRes[thisAg]\n",
        "     nAgHome = np.random.choice(np.arange(len(plist)), size=1, p=plist)[0]\n",
        "     for jj in np.arange(nAgHome):\n",
        "       agents.typ[ja] = thisAg #add agTyp tp agents.typ\n",
        "       agents.home[ja] = jh\n",
        "       newHome = np.append(newHome, ja)\n",
        "\n",
        "       for thisInst in instList:  #loop through institution types\n",
        "         nInstVisDist = thisInst.nVis[thisAg] #distribution of number of visits for this ag.type\n",
        "         nInstVis = np.random.choice(np.arange(len(nInstVisDist)), size = 1, p = nInstVisDist)[0]\n",
        "         distList = np.sqrt((thisInst.xyLoc[0,:]-homes.xyLoc[0,jh])**2+(thisInst.xyLoc[0,:]-homes.xyLoc[0,jh])**2) #create list of distances between this home and institutions\n",
        "         probList = distList**thisInst.distExp\n",
        "         probList = probList = probList/sum(probList)\n",
        "         theseInsts = np.random.choice(np.arange(len(probList)),size = nInstVis, replace = False, p=probList)\n",
        "\n",
        "         for ji, jInst in enumerate(theseInsts):\n",
        "           thisInst.idAg[jInst] = np.append(thisInst.idAg[jInst], ja)\n",
        "           thisInst.pAg[jInst] = np.append(thisInst.pAg[jInst] , thisInst.pVis[thisAg][nInstVis][ji])\n",
        "       ja = ja+1\n",
        "   homes.idAg = homes.idAg + [newHome]\n",
        "agents.home  = agents.home[0:ja]\n",
        "agents.status = agents.status[0:ja]\n",
        "agents.typ = agents.typ[0:ja]\n",
        "nAgMax = len(agents.home)\n",
        "agents.status[0] = 1\n",
        "\n",
        "\n",
        "\n",
        "\n"
      ],
      "execution_count": null,
      "outputs": []
    },
    {
      "cell_type": "code",
      "metadata": {
        "colab": {
          "base_uri": "https://localhost:8080/"
        },
        "id": "EQwzYu9ss3bl",
        "outputId": "47ec6c8d-e57c-4ce5-e0a6-237eb5d967c5"
      },
      "source": [
        "elemSch.idAg"
      ],
      "execution_count": null,
      "outputs": [
        {
          "output_type": "execute_result",
          "data": {
            "text/plain": [
              "[array([  0,   1,  15,  96, 114, 115, 118]),\n",
              " array([ 50,  51, 105, 135]),\n",
              " array([ 19,  26,  31,  93, 128, 129, 139, 140, 141, 152, 155, 156, 157,\n",
              "        180, 181, 182, 188, 189]),\n",
              " array([ 63,  64, 100, 160, 161, 176, 177, 184]),\n",
              " array([ 10,  11,  37,  41,  44,  45,  83,  84, 111])]"
            ]
          },
          "metadata": {},
          "execution_count": 10
        }
      ]
    },
    {
      "cell_type": "code",
      "metadata": {
        "id": "M3DGW-731LRI",
        "colab": {
          "base_uri": "https://localhost:8080/"
        },
        "outputId": "1995c65d-1b3b-49c8-cc67-efaebe1770c9"
      },
      "source": [
        "# Simulation Loop\n",
        "i = 1  #initiate\n",
        "Tsim = 10\n",
        "infDur = 7\n",
        "recDur = 21\n",
        "for jt in np.arange(Tsim):\n",
        "  #pdb.set_trace()\n",
        "  infContact = 0*agents.status  #infectious contacts\n",
        "  #Process infections in an institution\n",
        "  for thisInst in instList:\n",
        "    for ji,thisList in enumerate(thisInst.idAg):\n",
        "      theseInfP = thisInst.pAg[ji][agents.status[thisList]>0]\n",
        "      pNotInf = np.prod(1-theseInfP*thisInst.pInf)\n",
        "      pthisInf = thisInst.pAg[ji]*(1-pNotInf)\n",
        "      infectVec = np.random.binomial(1, pthisInf, size = len(thisList)) # generate a binomial distribution for infection\n",
        "      infectVec = infectVec*(agents.status[thisList]==0)\n",
        "      infContact[thisList] = infContact[thisList] + infectVec  # these susceptibles who visit the same institution\n",
        "  for jh,thisList in enumerate(homes.idAg):\n",
        "    jhInf = np.sum(agents.status[homes.idAg[jh]]>0) #count the infected in the home\n",
        "    pNotInf = np.prod(1-homes.pInf) # Probability that any susceptible is infected\n",
        "    pthisInf = 1 - pNotInf\n",
        "    infectVec = np.random.binomial(1, pthisInf, size=len(thisList)) #compute the probability of infected in home\n",
        "    infectVec = infectVec*(agents.status[thisList]--0)\n",
        "    infContact[thisList]= infContact[thisList]+infectVec # These infects visit the same house\n",
        "\n",
        "  agents.status[np.where((agents.status > 0) | (agents.status <0))] +=1\n",
        "  agents.status[np.where(agents.status == infDur)] = -1*recDur\n",
        "  agents.status = agents.status + (infContact >0)*(agents.status==0)\n",
        "  agents.status = agents.status.astype(int)\n",
        "  print(agents.status[:10])"
      ],
      "execution_count": null,
      "outputs": [
        {
          "output_type": "stream",
          "name": "stdout",
          "text": [
            "[2 0 0 0 0 0 0 0 0 0]\n",
            "[3 0 0 0 0 0 0 0 0 0]\n",
            "[4 0 0 0 0 0 0 0 0 0]\n",
            "[5 1 0 0 0 0 0 0 0 0]\n",
            "[6 2 0 0 0 0 0 0 0 0]\n",
            "[-21   3   0   0   0   0   0   0   0   0]\n",
            "[-20   4   0   0   0   0   0   0   0   0]\n",
            "[-19   5   0   0   0   0   0   0   0   0]\n",
            "[-18   6   0   0   0   0   0   0   0   0]\n",
            "[-17 -21   0   0   0   0   0   0   0   0]\n"
          ]
        }
      ]
    },
    {
      "cell_type": "code",
      "metadata": {
        "colab": {
          "base_uri": "https://localhost:8080/",
          "height": 282
        },
        "id": "wlWmhB7aeuma",
        "outputId": "cac13604-2150-4ba9-9b4e-362765ad0cc2"
      },
      "source": [
        "# Graphs\n",
        "import matplotlib.pyplot as plt #import necessary library\n",
        "plt.plot(newInf)"
      ],
      "execution_count": null,
      "outputs": [
        {
          "output_type": "execute_result",
          "data": {
            "text/plain": [
              "[<matplotlib.lines.Line2D at 0x7fc4f5af5bd0>]"
            ]
          },
          "metadata": {},
          "execution_count": 13
        },
        {
          "output_type": "display_data",
          "data": {
            "image/png": "[encoded data removed]",
            "text/plain": [
              "<Figure size 432x288 with 1 Axes>"
            ]
          },
          "metadata": {
            "needs_background": "light"
          }
        }
      ]
    },
    {
      "cell_type": "code",
      "metadata": {
        "colab": {
          "base_uri": "https://localhost:8080/"
        },
        "id": "hyk0lIDzkDY-",
        "outputId": "f5496226-88be-403f-e20d-f6fe68fab717"
      },
      "source": [
        "newInf"
      ],
      "execution_count": null,
      "outputs": [
        {
          "output_type": "execute_result",
          "data": {
            "text/plain": [
              "array([0, 0, 0, 0, 0, 0, 0, 0, 0, 0, 0, 0, 0, 0, 0, 0, 0, 0, 0, 0, 0, 0,\n",
              "       0, 0, 0, 0, 0, 0, 0, 0, 0, 1, 1, 0, 0, 0, 0, 0, 0, 0, 0, 0, 0, 0,\n",
              "       0, 0, 0, 0, 0, 0, 0, 0, 0, 0, 0, 0, 0, 0, 0, 0, 1, 0, 0, 0, 0, 0,\n",
              "       0, 0, 0, 0, 0, 0, 0, 0, 0, 0, 0, 0, 0, 0, 0, 0, 0, 0, 0, 0, 0, 0,\n",
              "       0, 0, 0, 0, 0, 0, 0, 0, 0, 0, 0, 0, 0, 0, 0, 0, 0, 0, 0, 0, 0, 0,\n",
              "       0, 0, 0, 0, 0, 0, 0, 0, 0, 0, 0, 0, 0, 0, 0, 0, 0, 0, 0, 0, 0, 0,\n",
              "       0, 0, 0, 0, 0, 0, 0, 0, 0, 0, 0, 0, 0, 0, 0, 0, 0, 0, 0, 0, 0, 0,\n",
              "       0, 0, 0, 0, 0, 0, 0, 0, 0, 0, 0, 0, 0, 0, 0, 0, 0, 0, 0, 0, 0, 0,\n",
              "       0, 0, 0, 0, 0, 0, 0, 0, 0, 0, 0, 0, 0, 0, 0, 0, 0, 0, 0, 0, 0, 0,\n",
              "       0, 0, 0, 0, 0, 0, 0, 0, 0, 0, 0, 0, 0, 0, 0, 0, 0, 0, 0, 0, 0, 0,\n",
              "       0, 0, 0, 0, 0, 0, 0, 0, 0])"
            ]
          },
          "metadata": {},
          "execution_count": 15
        }
      ]
    }
  ]
}